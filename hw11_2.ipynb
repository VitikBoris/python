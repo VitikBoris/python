{
 "cells": [
  {
   "attachments": {},
   "cell_type": "markdown",
   "metadata": {},
   "source": [
    "1) Дано 9-значное число. Определить произведение его цифр. Отдельные переменные для каждой цифры создавать нельзя."
   ]
  },
  {
   "cell_type": "code",
   "execution_count": 12,
   "metadata": {},
   "outputs": [
    {
     "name": "stdout",
     "output_type": "stream",
     "text": [
      "n: 123456789\n",
      "произведение 362880\n"
     ]
    }
   ],
   "source": [
    "n = int(input())\n",
    "p = 1\n",
    "print(\"n:\", n)\n",
    "for i in range(9):\n",
    "    p = p * (n % 10)\n",
    "    n = n // 10\n",
    "print('произведение', p)"
   ]
  },
  {
   "attachments": {},
   "cell_type": "markdown",
   "metadata": {},
   "source": [
    "2) Даны натуральные числа А и N. А - любое, N - любое меньшее количества цифр в числе А (например, если\n",
    "А = 8723, то N может быть 1, 2, 3). Найти произведение и сумму N последних цифр числа А."
   ]
  },
  {
   "cell_type": "code",
   "execution_count": 18,
   "metadata": {},
   "outputs": [
    {
     "name": "stdout",
     "output_type": "stream",
     "text": [
      "A: 123456789\n",
      "N: 5\n",
      "Произведение: 15120\n",
      "Сумма: 35\n"
     ]
    }
   ],
   "source": [
    "a = int(input())\n",
    "print(\"A:\", a)\n",
    "n = int(input())\n",
    "print(\"N:\", n)\n",
    "s = 0\n",
    "p = 1\n",
    "for i in range(n):\n",
    "    p *= a % 10\n",
    "    s += a % 10\n",
    "    a //= 10\n",
    "print(\"Произведение:\", p)\n",
    "print(\"Сумма:\", s)\n"
   ]
  },
  {
   "attachments": {},
   "cell_type": "markdown",
   "metadata": {},
   "source": [
    "* 3) Последовательность Фибоначчи - это набор чисел, который начинается с 1, 1, а каждое следующее число - это сумма\n",
    "двух предыдущих. (1 1 2 3 5 8 13 21 34 55 89 и т.д.) Дано натуральное число N. Найти N-й элемент последовательности."
   ]
  },
  {
   "cell_type": "code",
   "execution_count": 21,
   "metadata": {},
   "outputs": [
    {
     "name": "stdout",
     "output_type": "stream",
     "text": [
      "N: 2\n",
      "1\n"
     ]
    }
   ],
   "source": [
    "n = int(input())\n",
    "print(\"N:\", n)\n",
    "s1 = 1\n",
    "s = 0\n",
    "s2 = 1\n",
    "for i in range(n - 2):\n",
    "    s = s1 + s2\n",
    "    s1 = s2\n",
    "    s2 = s\n",
    "print(s2)"
   ]
  }
 ],
 "metadata": {
  "kernelspec": {
   "display_name": ".venv",
   "language": "python",
   "name": "python3"
  },
  "language_info": {
   "codemirror_mode": {
    "name": "ipython",
    "version": 3
   },
   "file_extension": ".py",
   "mimetype": "text/x-python",
   "name": "python",
   "nbconvert_exporter": "python",
   "pygments_lexer": "ipython3",
   "version": "3.9.4"
  },
  "orig_nbformat": 4,
  "vscode": {
   "interpreter": {
    "hash": "5bc28cc1251d60f813eb90558e47521c6ebc206619b4340573dbd50937262428"
   }
  }
 },
 "nbformat": 4,
 "nbformat_minor": 2
}
