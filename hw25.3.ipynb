{
 "cells": [
  {
   "attachments": {},
   "cell_type": "markdown",
   "metadata": {},
   "source": [
    "Дано целое число N > 1 и набор из N дробных чисел. Если числа в наборе возрастают вывести True, иначе вывести False."
   ]
  },
  {
   "cell_type": "code",
   "execution_count": 8,
   "metadata": {},
   "outputs": [
    {
     "name": "stdout",
     "output_type": "stream",
     "text": [
      "Кол-во чисел: 3\n",
      "1 2 3 True\n"
     ]
    }
   ],
   "source": [
    "flag = True\n",
    "n = int(input())\n",
    "print('Кол-во чисел:', n)\n",
    "c = []\n",
    "for i in range(n):\n",
    "    c.append(int(input()))\n",
    "    print(c[i], end=' ')\n",
    "print()\n",
    "for i in range(n - 1):\n",
    "    s = i + 1\n",
    "    if c[s] <= c[i]:\n",
    "        flag = False\n",
    "        break\n",
    "print(flag)"
   ]
  }
 ],
 "metadata": {
  "kernelspec": {
   "display_name": ".venv",
   "language": "python",
   "name": "python3"
  },
  "language_info": {
   "codemirror_mode": {
    "name": "ipython",
    "version": 3
   },
   "file_extension": ".py",
   "mimetype": "text/x-python",
   "name": "python",
   "nbconvert_exporter": "python",
   "pygments_lexer": "ipython3",
   "version": "3.9.4"
  },
  "orig_nbformat": 4,
  "vscode": {
   "interpreter": {
    "hash": "5bc28cc1251d60f813eb90558e47521c6ebc206619b4340573dbd50937262428"
   }
  }
 },
 "nbformat": 4,
 "nbformat_minor": 2
}
